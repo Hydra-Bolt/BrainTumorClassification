{
 "cells": [
  {
   "cell_type": "code",
   "execution_count": 13,
   "metadata": {},
   "outputs": [],
   "source": [
    "import tensorflow as tf\n",
    "import numpy as np"
   ]
  },
  {
   "cell_type": "code",
   "execution_count": 14,
   "metadata": {},
   "outputs": [],
   "source": [
    "IMG_SIZE = (224, 224)\n",
    "CLASSES = [\"glioma\", \"meningioma\", \"notumor\", \"pituitary\"]"
   ]
  },
  {
   "cell_type": "code",
   "execution_count": 21,
   "metadata": {},
   "outputs": [
    {
     "name": "stdout",
     "output_type": "stream",
     "text": [
      "\u001b[1m1/1\u001b[0m \u001b[32m━━━━━━━━━━━━━━━━━━━━\u001b[0m\u001b[37m\u001b[0m \u001b[1m0s\u001b[0m 336ms/step\n",
      "This image most likely belongs to glioma with a 47.54 percent confidence.\n",
      "\u001b[1m1/1\u001b[0m \u001b[32m━━━━━━━━━━━━━━━━━━━━\u001b[0m\u001b[37m\u001b[0m \u001b[1m0s\u001b[0m 438ms/step\n",
      "This image most likely belongs to glioma with a 47.54 percent confidence.\n"
     ]
    }
   ],
   "source": [
    "def predict_from_file(file, model_path=\"models/BTC_lite.keras\"):\n",
    "    model = tf.keras.models.load_model(model_path)\n",
    "    img = tf.keras.utils.load_img(file, target_size=IMG_SIZE)\n",
    "    img_array = tf.keras.utils.img_to_array(img)\n",
    "    img_array = tf.expand_dims(img_array, 0)\n",
    "    predictions = model.predict(img_array)\n",
    "    score = tf.nn.softmax(predictions[0])\n",
    "    print(\n",
    "        \"This image most likely belongs to {} with a {:.2f} percent confidence.\".format(\n",
    "            CLASSES[np.argmax(score)], 100 * np.max(score)\n",
    "        )\n",
    "    )\n",
    "    \n",
    "predict_from_file(\"brain-tumor-mri-dataset/Testing/glioma/Te-glTr_0000.jpg\")\n",
    "predict_from_file(\"brain-tumor-mri-dataset/Testing/glioma/Te-glTr_0000.jpg\", \"models/BTC.keras\")"
   ]
  },
  {
   "cell_type": "code",
   "execution_count": null,
   "metadata": {},
   "outputs": [],
   "source": []
  },
  {
   "cell_type": "code",
   "execution_count": null,
   "metadata": {},
   "outputs": [],
   "source": []
  }
 ],
 "metadata": {
  "kernelspec": {
   "display_name": "env",
   "language": "python",
   "name": "python3"
  },
  "language_info": {
   "codemirror_mode": {
    "name": "ipython",
    "version": 3
   },
   "file_extension": ".py",
   "mimetype": "text/x-python",
   "name": "python",
   "nbconvert_exporter": "python",
   "pygments_lexer": "ipython3",
   "version": "3.10.6"
  }
 },
 "nbformat": 4,
 "nbformat_minor": 2
}
